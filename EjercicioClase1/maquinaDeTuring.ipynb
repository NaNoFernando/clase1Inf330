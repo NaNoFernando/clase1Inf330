{
 "cells": [
  {
   "cell_type": "code",
   "execution_count": 1,
   "metadata": {},
   "outputs": [],
   "source": [
    "archivo=open(\"mensaje.txt\")"
   ]
  },
  {
   "cell_type": "code",
   "execution_count": 2,
   "metadata": {},
   "outputs": [
    {
     "name": "stdout",
     "output_type": "stream",
     "text": [
      "00000110000000010010000000000000000000100100110000000101000000110101010100000100000001000100110100001001000001010100000100001000000001100100100000000111000001110100111100000010000010000010000000000011000010010101001100001011000010100010000000000000000010110100000100000000000011000010000000000000000011010010000000000000000011100010000000000000000011110010000000000000000100000010000000000000000100010010000000000000000100100010000000000000000100110010000000000000\n"
     ]
    }
   ],
   "source": [
    "linea=archivo.readline()\n",
    "linea=archivo.readline()\n",
    "print(linea)"
   ]
  },
  {
   "cell_type": "code",
   "execution_count": 178,
   "metadata": {},
   "outputs": [],
   "source": [
    "indice=linea[0:8]\n",
    "contador=0\n",
    "id=[]\n",
    "contenido=[]\n",
    "destino=[]\n",
    "for i in range(19):\n",
    "    contador=contador+8\n",
    "    ide=linea[contador:contador+8]\n",
    "    contador=contador+8\n",
    "    con=linea[contador:contador+8]\n",
    "    contador=contador+8\n",
    "    dest=linea[contador:contador+8]\n",
    "    id.append(ide)\n",
    "    contenido.append(con)\n",
    "    destino.append(dest)"
   ]
  },
  {
   "cell_type": "code",
   "execution_count": 179,
   "metadata": {},
   "outputs": [
    {
     "data": {
      "text/plain": [
       "[('00000001', '00100000', '00000000'),\n",
       " ('00000010', '01001100', '00000101'),\n",
       " ('00000011', '01010101', '00000100'),\n",
       " ('00000100', '01001101', '00001001'),\n",
       " ('00000101', '01000001', '00001000'),\n",
       " ('00000110', '01001000', '00000111'),\n",
       " ('00000111', '01001111', '00000010'),\n",
       " ('00001000', '00100000', '00000011'),\n",
       " ('00001001', '01010011', '00001011'),\n",
       " ('00001010', '00100000', '00000000'),\n",
       " ('00001011', '01000001', '00000000'),\n",
       " ('00001100', '00100000', '00000000'),\n",
       " ('00001101', '00100000', '00000000'),\n",
       " ('00001110', '00100000', '00000000'),\n",
       " ('00001111', '00100000', '00000000'),\n",
       " ('00010000', '00100000', '00000000'),\n",
       " ('00010001', '00100000', '00000000'),\n",
       " ('00010010', '00100000', '00000000'),\n",
       " ('00010011', '00100000', '00000000')]"
      ]
     },
     "execution_count": 179,
     "metadata": {},
     "output_type": "execute_result"
    }
   ],
   "source": [
    "list(zip(id,contenido,destino))"
   ]
  },
  {
   "cell_type": "code",
   "execution_count": 180,
   "metadata": {},
   "outputs": [],
   "source": [
    "for i in range (19):\n",
    "    id[i]=int(str(id[i]), 2)\n",
    "    contenido[i]=chr(int(str(contenido[i]), 2))\n",
    "    destino[i]=int(str(destino[i]), 2)"
   ]
  },
  {
   "cell_type": "code",
   "execution_count": 181,
   "metadata": {},
   "outputs": [
    {
     "data": {
      "text/plain": [
       "[1, 2, 3, 4, 5, 6, 7, 8, 9, 10, 11, 12, 13, 14, 15, 16, 17, 18, 19]"
      ]
     },
     "execution_count": 181,
     "metadata": {},
     "output_type": "execute_result"
    }
   ],
   "source": [
    "id"
   ]
  },
  {
   "cell_type": "code",
   "execution_count": 182,
   "metadata": {},
   "outputs": [
    {
     "data": {
      "text/plain": [
       "[' ',\n",
       " 'L',\n",
       " 'U',\n",
       " 'M',\n",
       " 'A',\n",
       " 'H',\n",
       " 'O',\n",
       " ' ',\n",
       " 'S',\n",
       " ' ',\n",
       " 'A',\n",
       " ' ',\n",
       " ' ',\n",
       " ' ',\n",
       " ' ',\n",
       " ' ',\n",
       " ' ',\n",
       " ' ',\n",
       " ' ']"
      ]
     },
     "execution_count": 182,
     "metadata": {},
     "output_type": "execute_result"
    }
   ],
   "source": [
    "contenido"
   ]
  },
  {
   "cell_type": "code",
   "execution_count": 183,
   "metadata": {},
   "outputs": [
    {
     "data": {
      "text/plain": [
       "[0, 5, 4, 9, 8, 7, 2, 3, 11, 0, 0, 0, 0, 0, 0, 0, 0, 0, 0]"
      ]
     },
     "execution_count": 183,
     "metadata": {},
     "output_type": "execute_result"
    }
   ],
   "source": [
    "destino"
   ]
  },
  {
   "cell_type": "code",
   "execution_count": 184,
   "metadata": {},
   "outputs": [
    {
     "data": {
      "text/plain": [
       "[(1, ' ', 0),\n",
       " (2, 'L', 5),\n",
       " (3, 'U', 4),\n",
       " (4, 'M', 9),\n",
       " (5, 'A', 8),\n",
       " (6, 'H', 7),\n",
       " (7, 'O', 2),\n",
       " (8, ' ', 3),\n",
       " (9, 'S', 11),\n",
       " (10, ' ', 0),\n",
       " (11, 'A', 0),\n",
       " (12, ' ', 0),\n",
       " (13, ' ', 0),\n",
       " (14, ' ', 0),\n",
       " (15, ' ', 0),\n",
       " (16, ' ', 0),\n",
       " (17, ' ', 0),\n",
       " (18, ' ', 0),\n",
       " (19, ' ', 0)]"
      ]
     },
     "execution_count": 184,
     "metadata": {},
     "output_type": "execute_result"
    }
   ],
   "source": [
    "list(zip(id,contenido,destino))"
   ]
  },
  {
   "cell_type": "code",
   "execution_count": 185,
   "metadata": {},
   "outputs": [
    {
     "data": {
      "text/plain": [
       "6"
      ]
     },
     "execution_count": 185,
     "metadata": {},
     "output_type": "execute_result"
    }
   ],
   "source": [
    "indice=int(str(indice), 2)\n",
    "indice"
   ]
  },
  {
   "cell_type": "code",
   "execution_count": 186,
   "metadata": {},
   "outputs": [],
   "source": [
    "resultado=[]\n",
    "while True:\n",
    "    if  indice!=0:\n",
    "        resultado.append(contenido[indice-1])\n",
    "        indice=destino[indice-1]\n",
    "    else:\n",
    "        break\n",
    "resultado=\"\".join(resultado)"
   ]
  },
  {
   "cell_type": "code",
   "execution_count": 187,
   "metadata": {},
   "outputs": [
    {
     "name": "stdout",
     "output_type": "stream",
     "text": [
      "HOLA UMSA\n"
     ]
    }
   ],
   "source": [
    "print(resultado)"
   ]
  },
  {
   "cell_type": "code",
   "execution_count": null,
   "metadata": {},
   "outputs": [],
   "source": [
    "archivo.close()"
   ]
  }
 ],
 "metadata": {
  "kernelspec": {
   "display_name": "Python 3",
   "language": "python",
   "name": "python3"
  },
  "language_info": {
   "codemirror_mode": {
    "name": "ipython",
    "version": 3
   },
   "file_extension": ".py",
   "mimetype": "text/x-python",
   "name": "python",
   "nbconvert_exporter": "python",
   "pygments_lexer": "ipython3",
   "version": "3.7.3"
  }
 },
 "nbformat": 4,
 "nbformat_minor": 2
}
